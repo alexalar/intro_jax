{
 "cells": [
  {
   "cell_type": "markdown",
   "metadata": {},
   "source": [
    "# Introduction to JAX\n",
    "\n",
    "This notebook summarizes with examples some of the great JAX documentation available at: https://docs.jax.dev/en/latest/quickstart.html"
   ]
  },
  {
   "cell_type": "markdown",
   "metadata": {},
   "source": [
    "### Quickstart\n",
    "JAX is a library for array-oriented numerical computation (à la NumPy), with automatic differentiation and JIT compilation to enable high-performance machine learning research.\n",
    "\n",
    "The main features of JAX can be summarized as: \n",
    "- `jax.numpy`: JAX provides a unified *NumPy-like* interface to computations that run on *CPU, GPU, or TPU, in local or distributed settings*.\n",
    "\n",
    "- `jax.jit`: JAX features built-in *Just-In-Time (JIT)* compilation via *Open XLA*, an open-source machine learning compiler ecosystem.\n",
    "\n",
    "- `jax.grad`: JAX functions support efficient evaluation of gradients via its *automatic differentiation* transformations.\n",
    "\n",
    "- `jax.vmap`: JAX functions can be *automatically vectorized* to efficiently map them over arrays representing batches of inputs."
   ]
  },
  {
   "cell_type": "markdown",
   "metadata": {},
   "source": [
    "## Installation"
   ]
  },
  {
   "cell_type": "markdown",
   "metadata": {},
   "source": [
    "### Make new conda environment\n",
    "Install JAX by creating a fresh `conda` environment. \n",
    "\n",
    "As a side note, [`mamba`](https://mamba.readthedocs.io/en/latest/installation/mamba-installation.html) is a fast version of `conda` that uses `conda-forge` as its main channel (this is the channel you should always be using for science work).\n",
    "\n",
    "With `conda` (`mamba` already does this by default):\n",
    "```bash\n",
    "conda update conda\n",
    "conda config --add channels conda-forge\n",
    "conda config --set channel_priority strict\n",
    "```\n",
    "Make environment:\n",
    "```bash\n",
    "conda create -n jax_intro python=3.12\n",
    "conda activate jax_intro\n",
    "```\n",
    "\n",
    "### Install JAX\n",
    "\n",
    "Using JAX requires installing two packages: `jax`, which is pure Python and cross-platform, and `jaxlib` which contains compiled binaries, and requires different builds for different operating systems and accelerators.\n",
    "\n",
    "-- CPU-only (Linux/macOS/Windows):\n",
    "```bash\n",
    "pip install -U jax\n",
    "```\n",
    "\n",
    "-- GPU (NVIDIA, CUDA 12):\n",
    "```bash\n",
    "pip install -U \"jax[cuda12]\"\n",
    "```\n",
    "\n",
    "-- GPU (Mac M chips): (Experimental)\n",
    "\n",
    "Follow: https://developer.apple.com/metal/jax/\n",
    "```bash\n",
    "pip install -U \"jax[cuda12]\"\n",
    "```\n",
    "\n"
   ]
  },
  {
   "cell_type": "markdown",
   "metadata": {},
   "source": []
  }
 ],
 "metadata": {
  "language_info": {
   "name": "python"
  }
 },
 "nbformat": 4,
 "nbformat_minor": 2
}
