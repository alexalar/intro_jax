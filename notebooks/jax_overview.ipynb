{
 "cells": [
  {
   "cell_type": "markdown",
   "metadata": {},
   "source": [
    "# Installation"
   ]
  },
  {
   "cell_type": "markdown",
   "metadata": {},
   "source": [
    "### 1. Make new conda environment\n",
    "Install JAX by creating a fresh `conda` environment. \n",
    "\n",
    "As a side note, [`mamba`](https://mamba.readthedocs.io/en/latest/installation/mamba-installation.html) is a fast version of `conda` that uses `conda-forge` as its main channel (this is the channel you should always be using for science work).\n",
    "\n",
    "With `conda` (`mamba` already does this by default):\n",
    "```bash\n",
    "conda update conda\n",
    "conda config --add channels conda-forge\n",
    "conda config --set channel_priority strict\n",
    "```\n",
    "Make environment:\n",
    "```bash\n",
    "conda create -n jax_intro python=3.12\n",
    "conda activate jax_intro\n",
    "```\n",
    "\n",
    "### 2. Install JAX\n",
    "\n",
    "Using JAX requires installing two packages: `jax`, which is pure Python and cross-platform, and `jaxlib` which contains compiled binaries, and requires different builds for different operating systems and accelerators.\n",
    "\n",
    "-- CPU-only (Linux/macOS/Windows):\n",
    "```bash\n",
    "pip install -U jax\n",
    "```\n",
    "\n",
    "-- GPU (NVIDIA, CUDA 12):\n",
    "```bash\n",
    "pip install -U \"jax[cuda12]\"\n",
    "```\n",
    "\n",
    "-- GPU (Mac M chips): (Experimental)\n",
    "\n",
    "Follow: https://developer.apple.com/metal/jax/\n",
    "```bash\n",
    "pip install -U \"jax[cuda12]\"\n",
    "```\n",
    "\n",
    "### 3. Install remaining packages\n",
    "```bash\n",
    "conda install matplotlib numpy scipy astropy h5py\n",
    "```\n",
    "\n"
   ]
  },
  {
   "cell_type": "markdown",
   "metadata": {},
   "source": [
    "# Import Matplotlib"
   ]
  },
  {
   "cell_type": "code",
   "execution_count": 3,
   "metadata": {},
   "outputs": [],
   "source": [
    "%matplotlib inline"
   ]
  },
  {
   "cell_type": "code",
   "execution_count": 16,
   "metadata": {},
   "outputs": [
    {
     "data": {
      "image/png": "[encoded data removed]",
      "text/plain": [
       "<Figure size 600x400 with 1 Axes>"
      ]
     },
     "metadata": {},
     "output_type": "display_data"
    }
   ],
   "source": [
    "from matplotlib import pyplot as plt\n",
    "import matplotlib.gridspec as gridspec\n",
    "from matplotlib.patches import Patch\n",
    "from matplotlib.lines import Line2D\n",
    "plt.rc('font', family=\"serif\")\n",
    "plt.rc('font', size=16)\n",
    "plt.rc('text', usetex=True)\n",
    "plt.rc('text.latex', preamble=r'\\usepackage{amsmath}') #necessary to use \\dfrac\n",
    "plt.rc('figure', figsize=(6,4)) \n",
    "\n",
    "cmap = plt.get_cmap(\"RdYlGn\")\n",
    "plt.subplots(1,1)\n",
    "# Define points for \"J\"\n",
    "J_x = [1, 1, 0, 0, 0.5]\n",
    "J_y = [3, 0, 0, 1, 1]\n",
    "\n",
    "# Define points for \"A\"\n",
    "A_x = [2, 3, 4, 3.5, 2.5]\n",
    "A_y = [0, 3, 0, 1.5, 1.5]\n",
    "\n",
    "# Define points for \"X\"\n",
    "X_x = [5, 7, 6, 5, 7]\n",
    "X_y = [0, 3, 1.5, 3, 0]\n",
    "\n",
    "# Plot the points as lines\n",
    "plt.plot(J_x, J_y, marker='o', linestyle='-', color=cmap(0.15), label='J')\n",
    "plt.plot(A_x, A_y, marker='o', linestyle='-', color=cmap(0.28), label='A')\n",
    "plt.plot(X_x, X_y, marker='o', linestyle='-', color=cmap(0.8), label='X')\n",
    "\n",
    "# Styling\n",
    "plt.xlim(-1, 8)\n",
    "plt.ylim(-1, 4)\n",
    "plt.axis(\"off\")\n",
    "plt.title(\"JAX in Matplotlib\")\n",
    "\n",
    "# Show the plot\n",
    "plt.show()"
   ]
  },
  {
   "cell_type": "markdown",
   "metadata": {},
   "source": [
    "# Introduction to JAX\n",
    "\n",
    "This notebook summarizes with examples some of the great JAX documentation available at: https://docs.jax.dev/en/latest/quickstart.html\n",
    "\n",
    "JAX is a Python library for accelerator-oriented array computation and program transformation, designed for high-performance numerical computing and large-scale machine learning.\n",
    "\n",
    "Even if you are not interested in machine learning, you can exploit JAX to make your programs **faster** and **differentiable**.\n",
    "\n",
    "Coding with JAX is largely similar to coding with Numpy and Python's pure functions, with minimal (but important) rules, that yields accelerated code in CPUs, and automatic portability to accelerated machines (GPUs, TPUs).\n",
    "\n",
    "JAX let's you calculate fast gradients with machine-level precision of your functions. The feature of differentiation let's you use modern gradient-based optimization (BFGS, Adam) or inference (HMC, NUTS) techniques. These converge much faster."
   ]
  },
  {
   "cell_type": "markdown",
   "metadata": {},
   "source": [
    "## Quickstart\n",
    "JAX is a library for array-oriented numerical computation (à la NumPy), with automatic differentiation and JIT compilation to enable high-performance machine learning research.\n",
    "\n",
    "The main features of JAX can be summarized as: \n",
    "- `jax.numpy`: JAX provides a unified *NumPy-like* interface to computations that run on *CPU, GPU, or TPU, in local or distributed settings*.\n",
    "\n",
    "- `jax.jit`: JAX features built-in *Just-In-Time (JIT)* compilation via *Open XLA*, an open-source machine learning compiler ecosystem.\n",
    "\n",
    "- `jax.grad`: JAX functions support efficient evaluation of gradients via its *automatic differentiation* transformations.\n",
    "\n",
    "- `jax.vmap`: JAX functions can be *automatically vectorized* to efficiently map them over arrays representing batches of inputs.\n",
    "\n",
    "\n",
    "JAX has also implemented part of scipy, accessible through `jax.scipy`."
   ]
  },
  {
   "cell_type": "markdown",
   "metadata": {},
   "source": [
    "# Jax as Numpy "
   ]
  },
  {
   "cell_type": "markdown",
   "metadata": {},
   "source": [
    "You can think of JAX as a differentiable Numpy that runs on accelerators.\n",
    "\n",
    "Most JAX usage is through the familiar `jax.numpy` API, which is typically imported under the `jnp` alias:\n",
    "\n"
   ]
  },
  {
   "cell_type": "code",
   "execution_count": null,
   "metadata": {},
   "outputs": [],
   "source": []
  },
  {
   "cell_type": "code",
   "execution_count": null,
   "metadata": {},
   "outputs": [],
   "source": [
    "#__ = plt.style.use(\"./diffstar.mplstyle\")\n",
    "import numpy as np\n"
   ]
  },
  {
   "cell_type": "code",
   "execution_count": null,
   "metadata": {},
   "outputs": [],
   "source": [
    "import numpy as np\n",
    "import jax.numpy as jnp\n",
    "import "
   ]
  },
  {
   "cell_type": "markdown",
   "metadata": {},
   "source": [
    "## Basics\n",
    "### JAX Arrays"
   ]
  },
  {
   "cell_type": "code",
   "execution_count": null,
   "metadata": {},
   "outputs": [],
   "source": []
  }
 ],
 "metadata": {
  "kernelspec": {
   "display_name": "diffstuff",
   "language": "python",
   "name": "python3"
  },
  "language_info": {
   "codemirror_mode": {
    "name": "ipython",
    "version": 3
   },
   "file_extension": ".py",
   "mimetype": "text/x-python",
   "name": "python",
   "nbconvert_exporter": "python",
   "pygments_lexer": "ipython3",
   "version": "3.11.9"
  }
 },
 "nbformat": 4,
 "nbformat_minor": 2
}
